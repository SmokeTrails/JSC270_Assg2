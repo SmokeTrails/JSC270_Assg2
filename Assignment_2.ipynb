{
  "nbformat": 4,
  "nbformat_minor": 0,
  "metadata": {
    "colab": {
      "name": "Assignment 2.ipynb",
      "provenance": [],
      "collapsed_sections": [],
      "authorship_tag": "ABX9TyOxxdR6LVspy79gkUxxo+ml",
      "include_colab_link": true
    },
    "kernelspec": {
      "name": "python3",
      "display_name": "Python 3"
    }
  },
  "cells": [
    {
      "cell_type": "markdown",
      "metadata": {
        "id": "view-in-github",
        "colab_type": "text"
      },
      "source": [
        "<a href=\"https://colab.research.google.com/github/SmokeTrails/JSC270_Assg2/blob/mohsin/Assignment_2.ipynb\" target=\"_parent\"><img src=\"https://colab.research.google.com/assets/colab-badge.svg\" alt=\"Open In Colab\"/></a>"
      ]
    },
    {
      "cell_type": "markdown",
      "metadata": {
        "id": "HVaFqVxYdb0P"
      },
      "source": [
        "Libraries that I'll need"
      ]
    },
    {
      "cell_type": "code",
      "metadata": {
        "id": "017kufDmazWO"
      },
      "source": [
        "import pandas as pd\n",
        "import numpy as np\n",
        "import matplotlib.pyplot as plt\n",
        "import seaborn as sns\n",
        "from scipy import stats\n",
        "import statsmodels.api as sm\n",
        "import statsmodels.formula.api as smf\n",
        "import pylab as pl"
      ],
      "execution_count": 14,
      "outputs": []
    },
    {
      "cell_type": "markdown",
      "metadata": {
        "id": "ZjHnZQx4dlqd"
      },
      "source": [
        "Importing Data"
      ]
    },
    {
      "cell_type": "code",
      "metadata": {
        "id": "nj2aclN6dqj3"
      },
      "source": [
        "income94 = pd.read_csv('https://archive.ics.uci.edu/ml/machine-learning-databases/adult/adult.data', header=None)\n",
        "income94.columns = ['age','workclass', 'fnlwgt','education','education_num','marital_status','occupation',\n",
        "                    'relationship','race','sex','capital_gain','capital_loss','hours_per_week','native_country','gross_income_group']"
      ],
      "execution_count": 15,
      "outputs": []
    },
    {
      "cell_type": "markdown",
      "metadata": {
        "id": "Vns7tYnBg8L_"
      },
      "source": [
        "# Initial Data Exploration"
      ]
    },
    {
      "cell_type": "markdown",
      "metadata": {
        "id": "j7VpGu2DhDAX"
      },
      "source": [
        "## Question 1"
      ]
    },
    {
      "cell_type": "code",
      "metadata": {
        "colab": {
          "base_uri": "https://localhost:8080/"
        },
        "id": "cqwiMMtJhH5M",
        "outputId": "72e50d8f-ae80-4629-f7b9-23116f091182"
      },
      "source": [
        "income94.info()"
      ],
      "execution_count": 5,
      "outputs": [
        {
          "output_type": "stream",
          "text": [
            "<class 'pandas.core.frame.DataFrame'>\n",
            "RangeIndex: 32561 entries, 0 to 32560\n",
            "Data columns (total 15 columns):\n",
            " #   Column              Non-Null Count  Dtype \n",
            "---  ------              --------------  ----- \n",
            " 0   age                 32561 non-null  int64 \n",
            " 1   workclass           32561 non-null  object\n",
            " 2   fnlwgt              32561 non-null  int64 \n",
            " 3   education           32561 non-null  object\n",
            " 4   education_num       32561 non-null  int64 \n",
            " 5   marital_status      32561 non-null  object\n",
            " 6   occupation          32561 non-null  object\n",
            " 7   relationship        32561 non-null  object\n",
            " 8   race                32561 non-null  object\n",
            " 9   sex                 32561 non-null  object\n",
            " 10  capital_gain        32561 non-null  int64 \n",
            " 11  capital_loss        32561 non-null  int64 \n",
            " 12  hours_per_week      32561 non-null  int64 \n",
            " 13  native_country      32561 non-null  object\n",
            " 14  gross_income_group  32561 non-null  object\n",
            "dtypes: int64(6), object(9)\n",
            "memory usage: 3.7+ MB\n"
          ],
          "name": "stdout"
        }
      ]
    },
    {
      "cell_type": "markdown",
      "metadata": {
        "id": "PtRh9O9ZrAuY"
      },
      "source": [
        "## Question 2\n"
      ]
    },
    {
      "cell_type": "code",
      "metadata": {
        "id": "HCvnFUIJrD-H"
      },
      "source": [
        "# Print the number of observations in each column.\n",
        "for s in income94.columns:\n",
        "  print(income94[s].value_counts())"
      ],
      "execution_count": null,
      "outputs": []
    },
    {
      "cell_type": "code",
      "metadata": {
        "colab": {
          "base_uri": "https://localhost:8080/"
        },
        "id": "ELjuefE9taMa",
        "outputId": "335eca08-218b-4665-caff-4f9aca3fe74d"
      },
      "source": [
        "# Print the number of missing observations in each column\n",
        "income94 = income94.replace(' ?', np.nan)\n",
        "missing = {}\n",
        "for s in income94.columns:\n",
        "  missing[s] = 32561 - income94[s].count()\n",
        "missing"
      ],
      "execution_count": 23,
      "outputs": [
        {
          "output_type": "execute_result",
          "data": {
            "text/plain": [
              "{'age': 0,\n",
              " 'capital_gain': 0,\n",
              " 'capital_loss': 0,\n",
              " 'education': 0,\n",
              " 'education_num': 0,\n",
              " 'fnlwgt': 0,\n",
              " 'gross_income_group': 0,\n",
              " 'hours_per_week': 0,\n",
              " 'marital_status': 0,\n",
              " 'native_country': 583,\n",
              " 'occupation': 1843,\n",
              " 'race': 0,\n",
              " 'relationship': 0,\n",
              " 'sex': 0,\n",
              " 'workclass': 1836}"
            ]
          },
          "metadata": {
            "tags": []
          },
          "execution_count": 23
        }
      ]
    },
    {
      "cell_type": "markdown",
      "metadata": {
        "id": "b0nmwOUG08D5"
      },
      "source": [
        "## Question 3"
      ]
    },
    {
      "cell_type": "code",
      "metadata": {
        "colab": {
          "base_uri": "https://localhost:8080/",
          "height": 295
        },
        "id": "jhF9Fbuq0_l1",
        "outputId": "2780a153-32bd-4602-f561-5ce1a85481ec"
      },
      "source": [
        "# Plot the distribution of capital gains\n",
        "plt.hist(income94.capital_gain, bins = 5)\n",
        "plt.title(\"Distribution of Capital Gains\")\n",
        "plt.xlabel(\"Capital Gains ($)\")\n",
        "plt.ylabel(\"Relative Frequency\")\n",
        "plt.show()"
      ],
      "execution_count": 31,
      "outputs": [
        {
          "output_type": "display_data",
          "data": {
            "image/png": "[encoded data removed]",
            "text/plain": [
              "<Figure size 432x288 with 1 Axes>"
            ]
          },
          "metadata": {
            "tags": [],
            "needs_background": "light"
          }
        }
      ]
    },
    {
      "cell_type": "code",
      "metadata": {
        "colab": {
          "base_uri": "https://localhost:8080/",
          "height": 295
        },
        "id": "QZVbRa6N51XQ",
        "outputId": "bd03097c-d5f9-4686-822f-713b57e0ccc8"
      },
      "source": [
        "# Plot the distribution of capital losses\n",
        "plt.hist(income94.capital_loss, bins = 5)\n",
        "plt.title(\"Distribution of Capital Losses\")\n",
        "plt.xlabel(\"Capital Losses ($)\")\n",
        "plt.ylabel(\"Relative Frequency\")\n",
        "plt.show()"
      ],
      "execution_count": 26,
      "outputs": [
        {
          "output_type": "display_data",
          "data": {
            "image/png": "[encoded data removed]",
            "text/plain": [
              "<Figure size 432x288 with 1 Axes>"
            ]
          },
          "metadata": {
            "tags": [],
            "needs_background": "light"
          }
        }
      ]
    },
    {
      "cell_type": "markdown",
      "metadata": {
        "id": "cNzODNBlMmhP"
      },
      "source": [
        "## Question 4"
      ]
    },
    {
      "cell_type": "code",
      "metadata": {
        "colab": {
          "base_uri": "https://localhost:8080/",
          "height": 295
        },
        "id": "zjWjEr28a2BS",
        "outputId": "70ffc777-f836-472a-b9ef-17cd07646f4c"
      },
      "source": [
        "# Plot or numerically explore the distribution of fnlwgt\n",
        "plt.hist(income94.fnlwgt, bins = 15)\n",
        "plt.title(\"Distribution of fnlwgt\")\n",
        "plt.xlabel(\"fnlwgt\")\n",
        "plt.ylabel(\"Relative Frequency\")\n",
        "plt.show()"
      ],
      "execution_count": 46,
      "outputs": [
        {
          "output_type": "display_data",
          "data": {
            "image/png": "[encoded data removed]",
            "text/plain": [
              "<Figure size 432x288 with 1 Axes>"
            ]
          },
          "metadata": {
            "tags": [],
            "needs_background": "light"
          }
        }
      ]
    },
    {
      "cell_type": "code",
      "metadata": {
        "colab": {
          "base_uri": "https://localhost:8080/",
          "height": 323
        },
        "id": "S_vRro9wbuM5",
        "outputId": "ee6f98ff-f5c4-412f-dfa0-d12e3c7541c5"
      },
      "source": [
        "# Compare the distribution of this variable between men and women\n",
        "income94['fnlwgt'].hist(by=income94['sex'])\n",
        "pl.suptitle(\"Distribution of fnlwgt by sex\")"
      ],
      "execution_count": 45,
      "outputs": [
        {
          "output_type": "execute_result",
          "data": {
            "text/plain": [
              "Text(0.5, 0.98, 'Distribution of fnlwgt by sex')"
            ]
          },
          "metadata": {
            "tags": []
          },
          "execution_count": 45
        },
        {
          "output_type": "display_data",
          "data": {
            "image/png": "[encoded data removed]",
            "text/plain": [
              "<Figure size 432x288 with 2 Axes>"
            ]
          },
          "metadata": {
            "tags": [],
            "needs_background": "light"
          }
        }
      ]
    },
    {
      "cell_type": "markdown",
      "metadata": {
        "id": "ADdehAcQkmhY"
      },
      "source": [
        "# Correlation"
      ]
    },
    {
      "cell_type": "code",
      "metadata": {
        "colab": {
          "base_uri": "https://localhost:8080/",
          "height": 142
        },
        "id": "EDWPAJU3kt0t",
        "outputId": "3a87b6e8-5d6a-4848-8d1a-490fbb6eec31"
      },
      "source": [
        "# Do any of the variables appear to be correlated?\n",
        "income94_modified = income94[['age', 'education_num', 'hours_per_week']].copy()\n",
        "income94_modified.corr()"
      ],
      "execution_count": 24,
      "outputs": [
        {
          "output_type": "execute_result",
          "data": {
            "text/html": [
              "<div>\n",
              "<style scoped>\n",
              "    .dataframe tbody tr th:only-of-type {\n",
              "        vertical-align: middle;\n",
              "    }\n",
              "\n",
              "    .dataframe tbody tr th {\n",
              "        vertical-align: top;\n",
              "    }\n",
              "\n",
              "    .dataframe thead th {\n",
              "        text-align: right;\n",
              "    }\n",
              "</style>\n",
              "<table border=\"1\" class=\"dataframe\">\n",
              "  <thead>\n",
              "    <tr style=\"text-align: right;\">\n",
              "      <th></th>\n",
              "      <th>age</th>\n",
              "      <th>education_num</th>\n",
              "      <th>hours_per_week</th>\n",
              "    </tr>\n",
              "  </thead>\n",
              "  <tbody>\n",
              "    <tr>\n",
              "      <th>age</th>\n",
              "      <td>1.000000</td>\n",
              "      <td>0.036527</td>\n",
              "      <td>0.068756</td>\n",
              "    </tr>\n",
              "    <tr>\n",
              "      <th>education_num</th>\n",
              "      <td>0.036527</td>\n",
              "      <td>1.000000</td>\n",
              "      <td>0.148123</td>\n",
              "    </tr>\n",
              "    <tr>\n",
              "      <th>hours_per_week</th>\n",
              "      <td>0.068756</td>\n",
              "      <td>0.148123</td>\n",
              "      <td>1.000000</td>\n",
              "    </tr>\n",
              "  </tbody>\n",
              "</table>\n",
              "</div>"
            ],
            "text/plain": [
              "                     age  education_num  hours_per_week\n",
              "age             1.000000       0.036527        0.068756\n",
              "education_num   0.036527       1.000000        0.148123\n",
              "hours_per_week  0.068756       0.148123        1.000000"
            ]
          },
          "metadata": {
            "tags": []
          },
          "execution_count": 24
        }
      ]
    },
    {
      "cell_type": "code",
      "metadata": {
        "colab": {
          "base_uri": "https://localhost:8080/"
        },
        "id": "hR4zwQ5XxelB",
        "outputId": "d12de46c-f663-4a48-896b-9b337b042da8"
      },
      "source": [
        "# Statistically test any variable pairs with a correlation coefficient > |0.1| for its\n",
        "# difference from 0 and report your result\n",
        "from scipy.stats import ttest_ind\n",
        "print(ttest_ind(income94_modified['education_num'], income94_modified['hours_per_week']))"
      ],
      "execution_count": 25,
      "outputs": [
        {
          "output_type": "stream",
          "text": [
            "Ttest_indResult(statistic=-434.3097872965163, pvalue=0.0)\n"
          ],
          "name": "stdout"
        }
      ]
    },
    {
      "cell_type": "code",
      "metadata": {
        "colab": {
          "base_uri": "https://localhost:8080/",
          "height": 266
        },
        "id": "ZhqETRIk4VjY",
        "outputId": "3cda14a0-d572-4ef4-e149-c5aa6a67deed"
      },
      "source": [
        "# How does the correlation (and its significance) between education_num and age\n",
        "# compare between male and female participants?\n",
        "income94_modified['sex'] = income94['sex'].copy()\n",
        "income94_modified.groupby('sex').corr()"
      ],
      "execution_count": 56,
      "outputs": [
        {
          "output_type": "execute_result",
          "data": {
            "text/html": [
              "<div>\n",
              "<style scoped>\n",
              "    .dataframe tbody tr th:only-of-type {\n",
              "        vertical-align: middle;\n",
              "    }\n",
              "\n",
              "    .dataframe tbody tr th {\n",
              "        vertical-align: top;\n",
              "    }\n",
              "\n",
              "    .dataframe thead th {\n",
              "        text-align: right;\n",
              "    }\n",
              "</style>\n",
              "<table border=\"1\" class=\"dataframe\">\n",
              "  <thead>\n",
              "    <tr style=\"text-align: right;\">\n",
              "      <th></th>\n",
              "      <th></th>\n",
              "      <th>age</th>\n",
              "      <th>education_num</th>\n",
              "      <th>hours_per_week</th>\n",
              "    </tr>\n",
              "    <tr>\n",
              "      <th>sex</th>\n",
              "      <th></th>\n",
              "      <th></th>\n",
              "      <th></th>\n",
              "      <th></th>\n",
              "    </tr>\n",
              "  </thead>\n",
              "  <tbody>\n",
              "    <tr>\n",
              "      <th rowspan=\"3\" valign=\"top\">Female</th>\n",
              "      <th>age</th>\n",
              "      <td>1.000000</td>\n",
              "      <td>-0.017899</td>\n",
              "      <td>0.081257</td>\n",
              "    </tr>\n",
              "    <tr>\n",
              "      <th>education_num</th>\n",
              "      <td>-0.017899</td>\n",
              "      <td>1.000000</td>\n",
              "      <td>0.178749</td>\n",
              "    </tr>\n",
              "    <tr>\n",
              "      <th>hours_per_week</th>\n",
              "      <td>0.081257</td>\n",
              "      <td>0.178749</td>\n",
              "      <td>1.000000</td>\n",
              "    </tr>\n",
              "    <tr>\n",
              "      <th rowspan=\"3\" valign=\"top\">Male</th>\n",
              "      <th>age</th>\n",
              "      <td>1.000000</td>\n",
              "      <td>0.060486</td>\n",
              "      <td>0.034124</td>\n",
              "    </tr>\n",
              "    <tr>\n",
              "      <th>education_num</th>\n",
              "      <td>0.060486</td>\n",
              "      <td>1.000000</td>\n",
              "      <td>0.136782</td>\n",
              "    </tr>\n",
              "    <tr>\n",
              "      <th>hours_per_week</th>\n",
              "      <td>0.034124</td>\n",
              "      <td>0.136782</td>\n",
              "      <td>1.000000</td>\n",
              "    </tr>\n",
              "  </tbody>\n",
              "</table>\n",
              "</div>"
            ],
            "text/plain": [
              "                             age  education_num  hours_per_week\n",
              "sex                                                            \n",
              " Female age             1.000000      -0.017899        0.081257\n",
              "        education_num  -0.017899       1.000000        0.178749\n",
              "        hours_per_week  0.081257       0.178749        1.000000\n",
              " Male   age             1.000000       0.060486        0.034124\n",
              "        education_num   0.060486       1.000000        0.136782\n",
              "        hours_per_week  0.034124       0.136782        1.000000"
            ]
          },
          "metadata": {
            "tags": []
          },
          "execution_count": 56
        }
      ]
    },
    {
      "cell_type": "code",
      "metadata": {
        "colab": {
          "base_uri": "https://localhost:8080/"
        },
        "id": "yw9bB_B-6xfn",
        "outputId": "b06ff8dd-1a17-40f9-ff51-45660fe019c3"
      },
      "source": [
        "# How does the significance of the correlation between education_num and age\n",
        "# compare between male and female participants?\n",
        "male = income94.loc[income94['sex'] == ' Male']\n",
        "print(\"Hypothesis test between education_num and age for males: \")\n",
        "print(ttest_ind(male['education_num'], male['age']))\n",
        "print(\"\\n\")\n",
        "print(\"Hypothesis test between education_num and age for females: \")\n",
        "female = income94.loc[income94['sex'] == ' Female']\n",
        "print(ttest_ind(female['education_num'], female['age']))"
      ],
      "execution_count": 31,
      "outputs": [
        {
          "output_type": "stream",
          "text": [
            "Hypothesis test between education_num and age for males: \n",
            "Ttest_indResult(statistic=-317.5802686941918, pvalue=0.0)\n",
            "\n",
            "\n",
            "Hypothesis test between education_num and age for females: \n",
            "Ttest_indResult(statistic=-195.83931767962255, pvalue=0.0)\n"
          ],
          "name": "stdout"
        }
      ]
    },
    {
      "cell_type": "code",
      "metadata": {
        "colab": {
          "base_uri": "https://localhost:8080/",
          "height": 431
        },
        "id": "9uG6o9cuLANY",
        "outputId": "722ebe2d-39b9-416a-93ff-8f675dfc0dff"
      },
      "source": [
        "# Compare the weighted vs unweighted variance and covariance between\n",
        "# education_num and hourse_per_week.\n",
        "print(\"Unweighted variance of education num: \")\n",
        "print(income94.var()['education_num'])\n",
        "print('\\n')\n",
        "print(\"Weighted variance of education num: \")\n",
        "average = np.average(income94['education_num'], weights=income94['fnlwgt'])\n",
        "print(np.average((income94['education_num'] - average)**2, weights=income94['fnlwgt']))\n",
        "print('\\n')\n",
        "print(\"Unweighted variance of hours per week: \")\n",
        "print(income94.var()['hours_per_week'])\n",
        "print('\\n')\n",
        "print(\"Weighted variance of hours per week: \")\n",
        "average = np.average(income94['hours_per_week'], weights=income94['fnlwgt'])\n",
        "print(np.average((income94['hours_per_week'] - average)**2, weights=income94['fnlwgt']))\n",
        "print('\\n')\n",
        "print(\"Covariance between education num and hours per week: \")\n",
        "income94_modified.cov()\n"
      ],
      "execution_count": 37,
      "outputs": [
        {
          "output_type": "stream",
          "text": [
            "Unweighted variance of education num: \n",
            "6.618889907032687\n",
            "\n",
            "\n",
            "Weighted variance of education num: \n",
            "6.828646539770926\n",
            "\n",
            "\n",
            "Unweighted variance of hours per week: \n",
            "152.45899505042865\n",
            "\n",
            "\n",
            "Weighted variance of hours per week: \n",
            "146.3306330028469\n",
            "\n",
            "\n",
            "Covariance between education num and hours per week: \n"
          ],
          "name": "stdout"
        },
        {
          "output_type": "execute_result",
          "data": {
            "text/html": [
              "<div>\n",
              "<style scoped>\n",
              "    .dataframe tbody tr th:only-of-type {\n",
              "        vertical-align: middle;\n",
              "    }\n",
              "\n",
              "    .dataframe tbody tr th {\n",
              "        vertical-align: top;\n",
              "    }\n",
              "\n",
              "    .dataframe thead th {\n",
              "        text-align: right;\n",
              "    }\n",
              "</style>\n",
              "<table border=\"1\" class=\"dataframe\">\n",
              "  <thead>\n",
              "    <tr style=\"text-align: right;\">\n",
              "      <th></th>\n",
              "      <th>age</th>\n",
              "      <th>education_num</th>\n",
              "      <th>hours_per_week</th>\n",
              "    </tr>\n",
              "  </thead>\n",
              "  <tbody>\n",
              "    <tr>\n",
              "      <th>age</th>\n",
              "      <td>186.061400</td>\n",
              "      <td>1.281849</td>\n",
              "      <td>11.580130</td>\n",
              "    </tr>\n",
              "    <tr>\n",
              "      <th>education_num</th>\n",
              "      <td>1.281849</td>\n",
              "      <td>6.618890</td>\n",
              "      <td>4.705338</td>\n",
              "    </tr>\n",
              "    <tr>\n",
              "      <th>hours_per_week</th>\n",
              "      <td>11.580130</td>\n",
              "      <td>4.705338</td>\n",
              "      <td>152.458995</td>\n",
              "    </tr>\n",
              "  </tbody>\n",
              "</table>\n",
              "</div>"
            ],
            "text/plain": [
              "                       age  education_num  hours_per_week\n",
              "age             186.061400       1.281849       11.580130\n",
              "education_num     1.281849       6.618890        4.705338\n",
              "hours_per_week   11.580130       4.705338      152.458995"
            ]
          },
          "metadata": {
            "tags": []
          },
          "execution_count": 37
        }
      ]
    },
    {
      "cell_type": "markdown",
      "metadata": {
        "id": "4TQIyGK2SRxk"
      },
      "source": [
        "# Regression\n"
      ]
    },
    {
      "cell_type": "code",
      "metadata": {
        "colab": {
          "base_uri": "https://localhost:8080/"
        },
        "id": "lNnh_p3xSUIU",
        "outputId": "dc3d86ce-e286-49f7-84d1-3f94bccd807b"
      },
      "source": [
        "# Fit a linear regression with hours_per_week as the dependent variable and sex as the independent variable.\n",
        "income94['sex_bin'] = (income94.sex == \" Male\").astype(int)\n",
        "reg1 = smf.ols('hours_per_week ~ sex_bin', data = income94).fit()\n",
        "print(reg1.summary())"
      ],
      "execution_count": 46,
      "outputs": [
        {
          "output_type": "stream",
          "text": [
            "                            OLS Regression Results                            \n",
            "==============================================================================\n",
            "Dep. Variable:         hours_per_week   R-squared:                       0.053\n",
            "Model:                            OLS   Adj. R-squared:                  0.053\n",
            "Method:                 Least Squares   F-statistic:                     1807.\n",
            "Date:                Mon, 08 Feb 2021   Prob (F-statistic):               0.00\n",
            "Time:                        15:47:39   Log-Likelihood:            -1.2716e+05\n",
            "No. Observations:               32561   AIC:                         2.543e+05\n",
            "Df Residuals:                   32559   BIC:                         2.543e+05\n",
            "Df Model:                           1                                         \n",
            "Covariance Type:            nonrobust                                         \n",
            "==============================================================================\n",
            "                 coef    std err          t      P>|t|      [0.025      0.975]\n",
            "------------------------------------------------------------------------------\n",
            "Intercept     36.4104      0.116    314.412      0.000      36.183      36.637\n",
            "sex_bin        6.0177      0.142     42.510      0.000       5.740       6.295\n",
            "==============================================================================\n",
            "Omnibus:                     2649.390   Durbin-Watson:                   2.019\n",
            "Prob(Omnibus):                  0.000   Jarque-Bera (JB):            13090.867\n",
            "Skew:                           0.239   Prob(JB):                         0.00\n",
            "Kurtosis:                       6.069   Cond. No.                         3.24\n",
            "==============================================================================\n",
            "\n",
            "Warnings:\n",
            "[1] Standard Errors assume that the covariance matrix of the errors is correctly specified.\n"
          ],
          "name": "stdout"
        }
      ]
    },
    {
      "cell_type": "code",
      "metadata": {
        "colab": {
          "base_uri": "https://localhost:8080/"
        },
        "id": "2EbxkZdMWANA",
        "outputId": "c4c5553a-4909-4b94-fbe3-3665c0dc3224"
      },
      "source": [
        "# Add education_num as a control variable\n",
        "reg2 = smf.ols('hours_per_week ~ sex_bin + education_num', data = income94).fit()\n",
        "print(reg2.summary())"
      ],
      "execution_count": 47,
      "outputs": [
        {
          "output_type": "stream",
          "text": [
            "                            OLS Regression Results                            \n",
            "==============================================================================\n",
            "Dep. Variable:         hours_per_week   R-squared:                       0.074\n",
            "Model:                            OLS   Adj. R-squared:                  0.074\n",
            "Method:                 Least Squares   F-statistic:                     1295.\n",
            "Date:                Mon, 08 Feb 2021   Prob (F-statistic):               0.00\n",
            "Time:                        15:52:33   Log-Likelihood:            -1.2680e+05\n",
            "No. Observations:               32561   AIC:                         2.536e+05\n",
            "Df Residuals:                   32558   BIC:                         2.536e+05\n",
            "Df Model:                           2                                         \n",
            "Covariance Type:            nonrobust                                         \n",
            "=================================================================================\n",
            "                    coef    std err          t      P>|t|      [0.025      0.975]\n",
            "---------------------------------------------------------------------------------\n",
            "Intercept        29.4106      0.281    104.556      0.000      28.859      29.962\n",
            "sex_bin           5.9709      0.140     42.653      0.000       5.697       6.245\n",
            "education_num     0.6975      0.026     27.244      0.000       0.647       0.748\n",
            "==============================================================================\n",
            "Omnibus:                     2783.881   Durbin-Watson:                   2.018\n",
            "Prob(Omnibus):                  0.000   Jarque-Bera (JB):            14492.060\n",
            "Skew:                           0.247   Prob(JB):                         0.00\n",
            "Kurtosis:                       6.231   Cond. No.                         45.6\n",
            "==============================================================================\n",
            "\n",
            "Warnings:\n",
            "[1] Standard Errors assume that the covariance matrix of the errors is correctly specified.\n"
          ],
          "name": "stdout"
        }
      ]
    },
    {
      "cell_type": "code",
      "metadata": {
        "colab": {
          "base_uri": "https://localhost:8080/"
        },
        "id": "aY3M_j_zXYNk",
        "outputId": "64dbdd0e-e0d7-4ad8-a940-491089d4c00e"
      },
      "source": [
        "# Now add gross_income_group as a binary variable in the model and compare the\n",
        "# model with these 3 variables\n",
        "income94['gross_income_bin'] = (income94.gross_income_group == \" >50K\").astype(int)\n",
        "reg3 = smf.ols('hours_per_week ~ sex_bin + education_num + gross_income_bin', data = income94).fit()\n",
        "print(reg3.summary())"
      ],
      "execution_count": 55,
      "outputs": [
        {
          "output_type": "stream",
          "text": [
            "                            OLS Regression Results                            \n",
            "==============================================================================\n",
            "Dep. Variable:         hours_per_week   R-squared:                       0.094\n",
            "Model:                            OLS   Adj. R-squared:                  0.094\n",
            "Method:                 Least Squares   F-statistic:                     1130.\n",
            "Date:                Mon, 08 Feb 2021   Prob (F-statistic):               0.00\n",
            "Time:                        16:06:46   Log-Likelihood:            -1.2643e+05\n",
            "No. Observations:               32561   AIC:                         2.529e+05\n",
            "Df Residuals:                   32557   BIC:                         2.529e+05\n",
            "Df Model:                           3                                         \n",
            "Covariance Type:            nonrobust                                         \n",
            "====================================================================================\n",
            "                       coef    std err          t      P>|t|      [0.025      0.975]\n",
            "------------------------------------------------------------------------------------\n",
            "Intercept           31.4218      0.288    109.184      0.000      30.858      31.986\n",
            "sex_bin              5.1010      0.142     35.907      0.000       4.823       5.379\n",
            "education_num        0.4478      0.027     16.632      0.000       0.395       0.501\n",
            "gross_income_bin     4.5175      0.166     27.229      0.000       4.192       4.843\n",
            "==============================================================================\n",
            "Omnibus:                     2984.190   Durbin-Watson:                   2.015\n",
            "Prob(Omnibus):                  0.000   Jarque-Bera (JB):            15467.160\n",
            "Skew:                           0.296   Prob(JB):                         0.00\n",
            "Kurtosis:                       6.324   Cond. No.                         48.1\n",
            "==============================================================================\n",
            "\n",
            "Warnings:\n",
            "[1] Standard Errors assume that the covariance matrix of the errors is correctly specified.\n"
          ],
          "name": "stdout"
        }
      ]
    }
  ]
}